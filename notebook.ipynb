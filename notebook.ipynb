{
 "cells": [
  {
   "cell_type": "markdown",
   "id": "1045dcde",
   "metadata": {},
   "source": [
    "____\n",
    "__Universidad de San Andrés__<br/>\n",
    "__Machine Learning__<br/>\n",
    "__Trabajo Práctico 3: Redes Neuronales__<br/>\n",
    "__Federico Gutman__\n",
    "____"
   ]
  },
  {
   "cell_type": "markdown",
   "id": "3f466119",
   "metadata": {},
   "source": [
    "### Análisis y Preprocesamiento de Datos"
   ]
  },
  {
   "cell_type": "markdown",
   "id": "078be78a",
   "metadata": {},
   "source": [
    "#### Importamos las librerias necesarias"
   ]
  },
  {
   "cell_type": "code",
   "execution_count": null,
   "id": "4ebf408c",
   "metadata": {},
   "outputs": [],
   "source": [
    "import numpy as np\n",
    "import matplotlib.pyplot as plt\n",
    "import src.data_splitting as ds\n",
    "import src.preprocessing as pr\n",
    "import src.metrics as metrics\n",
    "import seaborn as sns\n",
    "import pandas as pd\n",
    "from src.models import NeuralNetwork\n",
    "# import pytorch "
   ]
  },
  {
   "cell_type": "code",
   "execution_count": null,
   "id": "e1a1afe4",
   "metadata": {},
   "outputs": [],
   "source": [
    "# NOTAS\n",
    "\n",
    "# VER BACKPROP\n",
    "# HACER CROSS-VAL\n",
    "# PULIR CODIGO, NOTEBOOK Y HACER INFORME [EL FINDE VA A HABER CONSULTAS]"
   ]
  },
  {
   "cell_type": "code",
   "execution_count": null,
   "id": "dad74d05",
   "metadata": {},
   "outputs": [],
   "source": [
    "X_images = np.load(\"data/X_images.npy\")\n",
    "y_images = np.load(\"data/y_images.npy\")"
   ]
  },
  {
   "cell_type": "code",
   "execution_count": null,
   "id": "d58b7608",
   "metadata": {},
   "outputs": [],
   "source": [
    "nrows = 2\n",
    "ncolumns = 5\n",
    "\n",
    "fig, ax = plt.subplots(nrows, ncolumns, figsize=(8, 3))\n",
    "for i in range(nrows):\n",
    "    for k in range(ncolumns):\n",
    "        ax[i, k].imshow(X_images[np.random.randint(0, len(X_images))].reshape(28, 28), cmap='grey')\n",
    "        ax[i, k].axis('off')\n",
    "plt.tight_layout()\n",
    "plt.show()\n",
    "\n",
    "print(f'Number of images: {len(X_images)}')\n",
    "\n",
    "# PONER GRAFICO CLASES\n"
   ]
  },
  {
   "cell_type": "markdown",
   "id": "8a094a5d",
   "metadata": {},
   "source": [
    "#### Dividimos el conjunto de datos en tres subconjuntos: Train, Validation y Test."
   ]
  },
  {
   "cell_type": "code",
   "execution_count": null,
   "id": "6fa4be5c",
   "metadata": {},
   "outputs": [],
   "source": [
    "X_dev, X_test, y_dev, y_test = ds.dev_test_split(X_images, y_images)\n",
    "\n",
    "X_dev, X_test = pr.normalize(X_dev), pr.normalize(X_test)\n",
    "y_dev, y_test = pr.one_hot_encoding(y_dev), pr.one_hot_encoding(y_test)\n",
    "\n",
    "X_train, X_valid, y_train, y_valid = ds.train_valid_split(X_dev, y_dev)"
   ]
  },
  {
   "cell_type": "markdown",
   "id": "5c3ef07f",
   "metadata": {},
   "source": [
    "#### Entrenamos la red neuronal"
   ]
  },
  {
   "cell_type": "code",
   "execution_count": null,
   "id": "64c9ce05",
   "metadata": {},
   "outputs": [],
   "source": [
    "m0 = NeuralNetwork(X_train, y_train, [784, 100, 80, 49])\n",
    "m0.train(X_valid, y_valid, epochs=400, lr=0.1)"
   ]
  },
  {
   "cell_type": "code",
   "execution_count": null,
   "id": "5429827d",
   "metadata": {},
   "outputs": [],
   "source": [
    "m0.accuracy(X_train, y_train, X_valid, y_valid)\n",
    "m0.plot_loss()\n",
    "m0.plot_confusion_matrix(X_train, y_train, X_valid, y_valid)\n",
    "\n",
    "\n",
    "# FALTA LOSS Y MATRIZ DE CONFUSION\n",
    "# HACER UNA FUNCION QUE ME IMPRIMA TODO"
   ]
  },
  {
   "cell_type": "markdown",
   "id": "97fb99ab",
   "metadata": {},
   "source": [
    "### Mejoras al algoritmo de entrenamiento"
   ]
  },
  {
   "cell_type": "markdown",
   "id": "8ebdbfdc",
   "metadata": {},
   "source": [
    "#### Learning Rate scheduling"
   ]
  },
  {
   "cell_type": "markdown",
   "id": "45b7ed33",
   "metadata": {},
   "source": [
    "##### LR Scheduling Lineal"
   ]
  },
  {
   "cell_type": "code",
   "execution_count": null,
   "id": "9f653915",
   "metadata": {},
   "outputs": [],
   "source": [
    "net1 = NeuralNetwork(X_train, y_train, [784, 100, 80, 49])\n",
    "net1.train(X_valid, y_valid, epochs=400, lr=0.1, scheduling_type='Linear')\n",
    "\n",
    "net1.accuracy(X_train, y_train, X_valid, y_valid)\n",
    "net1.plot_loss()\n",
    "net1.plot_confusion_matrix(X_train, y_train, X_valid, y_valid)\n",
    "\n",
    "# ME DAN MISMA ACCURACY QUE M0 PERO EN MENOS EPOCAS"
   ]
  },
  {
   "cell_type": "markdown",
   "id": "ef0c7127",
   "metadata": {},
   "source": [
    "##### LR Scheduling Exponencial"
   ]
  },
  {
   "cell_type": "code",
   "execution_count": null,
   "id": "19006357",
   "metadata": {},
   "outputs": [],
   "source": [
    "net2 = NeuralNetwork(X_train, y_train, [784, 100, 80, 49])\n",
    "net2.train(X_valid, y_valid, epochs=400, lr=0.2, scheduling_type='Exp')\n",
    "# Con un lr mas alto (0.2 por ejemplo) oscilan las curvas de loss (preguntar) esto en teoria no deberia pasar ya que el lr va bajando en cada iteracion\n",
    "\n",
    "net2.accuracy(X_train, y_train, X_valid, y_valid)\n",
    "net2.plot_loss()\n",
    "net2.plot_confusion_matrix(X_train, y_train, X_valid, y_valid)"
   ]
  },
  {
   "cell_type": "markdown",
   "id": "26a95ecc",
   "metadata": {},
   "source": [
    "#### Mini-batch stochastic gradient descent"
   ]
  },
  {
   "cell_type": "code",
   "execution_count": null,
   "id": "6b2fd671",
   "metadata": {},
   "outputs": [],
   "source": [
    "net3 = NeuralNetwork(X_train, y_train, [784, 100, 80, 49])\n",
    "net3.train(X_valid, y_valid, epochs=40, lr=0.1, batch_size=64) # OPTE POR USAR LR 1\n",
    "\n",
    "net3.accuracy(X_train, y_train, X_valid, y_valid)\n",
    "net3.plot_loss()\n",
    "net3.plot_confusion_matrix(X_train, y_train, X_valid, y_valid) # PREGUNAR QUE ME IMPORTA LA LOSS DE TRAIN"
   ]
  },
  {
   "cell_type": "markdown",
   "id": "6cf557d3",
   "metadata": {},
   "source": [
    "#### ADAM"
   ]
  },
  {
   "cell_type": "code",
   "execution_count": null,
   "id": "0e3ddd67",
   "metadata": {},
   "outputs": [],
   "source": [
    "net4 = NeuralNetwork(X_train, y_train, [784, 100, 80, 49])\n",
    "net4.train(X_valid, y_valid, epochs=400, lr=0.1, optimizer='ADAM')\n",
    "\n",
    "net4.accuracy(X_train, y_train, X_valid, y_valid)\n",
    "net4.plot_loss()\n",
    "net4.plot_confusion_matrix(X_train, y_train, X_valid, y_valid) # PREGUNTAR QUE ME IMPORTA LA LOSS DE TRAIN"
   ]
  },
  {
   "cell_type": "markdown",
   "id": "9c4a1243",
   "metadata": {},
   "source": [
    "#### Regularización L2"
   ]
  },
  {
   "cell_type": "code",
   "execution_count": null,
   "id": "30935e9b",
   "metadata": {},
   "outputs": [],
   "source": [
    "net5 = NeuralNetwork(X_train, y_train, [784, 100, 80, 49])\n",
    "net5.train(X_valid, y_valid, epochs=400, lr=0.1, optimizer='gradient_descent', l2_lambda=0.01)\n",
    "\n",
    "net5.accuracy(X_train, y_train, X_valid, y_valid)\n",
    "net5.plot_loss()\n",
    "net5.plot_confusion_matrix(X_train, y_train, X_valid, y_valid)"
   ]
  },
  {
   "cell_type": "markdown",
   "id": "5c1ce7b9",
   "metadata": {},
   "source": [
    "#### Early stopping"
   ]
  },
  {
   "cell_type": "code",
   "execution_count": null,
   "id": "b7021ab3",
   "metadata": {},
   "outputs": [],
   "source": [
    "net6 = NeuralNetwork(X_train, y_train, [784, 100, 80, 49])\n",
    "net6.train(X_valid, y_valid, epochs=600, lr=0.1, optimizer='gradient_descent', early_stopping=True) # XQ EN EARLY STOPPING COMPARO CON LA LOSS MAS BAJA Y NO CON LA ULTIMA?\n",
    "\n",
    "net6.accuracy(X_train, y_train, X_valid, y_valid)\n",
    "net6.plot_loss()\n",
    "net6.plot_confusion_matrix(X_train, y_train, X_valid, y_valid)"
   ]
  },
  {
   "cell_type": "markdown",
   "id": "3c77232d",
   "metadata": {},
   "source": [
    "#### Dropout"
   ]
  },
  {
   "cell_type": "code",
   "execution_count": 1,
   "id": "0bc39cf7",
   "metadata": {},
   "outputs": [
    {
     "ename": "NameError",
     "evalue": "name 'NeuralNetwork' is not defined",
     "output_type": "error",
     "traceback": [
      "\u001b[0;31m---------------------------------------------------------------------------\u001b[0m",
      "\u001b[0;31mNameError\u001b[0m                                 Traceback (most recent call last)",
      "Cell \u001b[0;32mIn[1], line 1\u001b[0m\n\u001b[0;32m----> 1\u001b[0m net7 \u001b[38;5;241m=\u001b[39m \u001b[43mNeuralNetwork\u001b[49m(X_train, y_train, [\u001b[38;5;241m784\u001b[39m, \u001b[38;5;241m100\u001b[39m, \u001b[38;5;241m80\u001b[39m, \u001b[38;5;241m49\u001b[39m])\n\u001b[1;32m      2\u001b[0m net7\u001b[38;5;241m.\u001b[39mtrain(X_valid, y_valid, epochs\u001b[38;5;241m=\u001b[39m\u001b[38;5;241m400\u001b[39m, lr\u001b[38;5;241m=\u001b[39m\u001b[38;5;241m0.1\u001b[39m, optimizer\u001b[38;5;241m=\u001b[39m\u001b[38;5;124m'\u001b[39m\u001b[38;5;124mgradient_descent\u001b[39m\u001b[38;5;124m'\u001b[39m) \u001b[38;5;66;03m# XQ EN EARLY STOPPING COMPARO CON LA LOSS MAS BAJA Y NO CON LA ULTIMA?\u001b[39;00m\n\u001b[1;32m      4\u001b[0m net7\u001b[38;5;241m.\u001b[39maccuracy(X_train, y_train, X_valid, y_valid)\n",
      "\u001b[0;31mNameError\u001b[0m: name 'NeuralNetwork' is not defined"
     ]
    }
   ],
   "source": [
    "net7 = NeuralNetwork(X_train, y_train, [784, 100, 80, 49])\n",
    "net7.train(X_valid, y_valid, epochs=400, lr=0.1, optimizer='gradient_descent') # XQ EN EARLY STOPPING COMPARO CON LA LOSS MAS BAJA Y NO CON LA ULTIMA?\n",
    "\n",
    "net7.accuracy(X_train, y_train, X_valid, y_valid)\n",
    "net7.plot_loss()\n",
    "net7.plot_confusion_matrix(X_train, y_train, X_valid, y_valid)"
   ]
  },
  {
   "cell_type": "markdown",
   "id": "ba8e51c5",
   "metadata": {},
   "source": [
    "#### Batch normalization"
   ]
  },
  {
   "cell_type": "code",
   "execution_count": null,
   "id": "1198d87c",
   "metadata": {},
   "outputs": [],
   "source": []
  },
  {
   "cell_type": "markdown",
   "id": "c5feeddd",
   "metadata": {},
   "source": [
    "### Probamos distintas arquitecturas\n",
    "[ver de buscar de maenra greedy los mejores hiperparams pero justificar cuales considero mas importantes que otros]"
   ]
  },
  {
   "cell_type": "code",
   "execution_count": null,
   "id": "16ff95e5",
   "metadata": {},
   "outputs": [],
   "source": [
    "# testeo batch\n",
    "\n",
    "r = ds.batch_cross_validation(X_train, y_train, [784, 100, 80, 49], batch_sizes=[32, 64, 128], epochs=100)\n",
    "print(r)"
   ]
  },
  {
   "cell_type": "code",
   "execution_count": null,
   "id": "4a1910bd",
   "metadata": {},
   "outputs": [],
   "source": [
    "m1 = NeuralNetwork(X_train, y_train, [784, 200, 100, 80, 49])\n",
    "m1.train(X_valid, y_valid, epochs=300, lr=0.1, early_stopping=True, scheduling_type='Linear', batch_size=64)\n",
    "\n",
    "m1.accuracy(X_train, y_train, X_valid, y_valid)\n",
    "m1.plot_loss()\n",
    "m1.plot_confusion_matrix(X_train, y_train, X_valid, y_valid) # repoartar fenomoeno de mejor accuracy pero mayor loss a medida q avanzo en epochs"
   ]
  },
  {
   "cell_type": "markdown",
   "id": "cd67cb1c",
   "metadata": {},
   "source": [
    "### Desarrollo de una Red Neuronal con PyTorch"
   ]
  }
 ],
 "metadata": {
  "kernelspec": {
   "display_name": "fia",
   "language": "python",
   "name": "python3"
  },
  "language_info": {
   "codemirror_mode": {
    "name": "ipython",
    "version": 3
   },
   "file_extension": ".py",
   "mimetype": "text/x-python",
   "name": "python",
   "nbconvert_exporter": "python",
   "pygments_lexer": "ipython3",
   "version": "3.12.4"
  }
 },
 "nbformat": 4,
 "nbformat_minor": 5
}
